{
 "cells": [
  {
   "cell_type": "code",
   "execution_count": 1,
   "id": "b57479fe-5194-40ac-8c17-5384951c125e",
   "metadata": {},
   "outputs": [],
   "source": [
    "import requests\n",
    "import pandas as pd\n",
    "from io import BytesIO\n",
    "import os\n",
    "from core.utils import solve_path, solve_dir, check_file_exists"
   ]
  },
  {
   "cell_type": "code",
   "execution_count": 2,
   "id": "bf4c5944-aa19-4daa-9030-bff4458ea9bb",
   "metadata": {},
   "outputs": [],
   "source": [
    "ORIGINAL_DATA_DIR = solve_dir('original_data')\n",
    "GENERATED_DATA_DIR = solve_dir('generated_data')\n",
    "GENERATED_DATA_DIR = solve_path('estrutura_pdm', GENERATED_DATA_DIR)\n",
    "GENERATED_DATA_DIR = solve_dir(GENERATED_DATA_DIR)"
   ]
  },
  {
   "cell_type": "code",
   "execution_count": 3,
   "id": "bad9e9e6-87c9-45d8-8e42-773c9d59c17d",
   "metadata": {},
   "outputs": [],
   "source": [
    "link_pdm_final = 'https://www.prefeitura.sp.gov.br/cidade/secretarias/upload/governo/arquivos/pdm-2124/Planilha%20PdM%2021-24%20Dados%20Abertos.xlsx'"
   ]
  },
  {
   "cell_type": "code",
   "execution_count": 4,
   "id": "11f10542-2594-4cbf-80b2-dc9417aa756c",
   "metadata": {},
   "outputs": [],
   "source": [
    "def download_xl(link, fname, folder, **read_excel):\n",
    "    \n",
    "    fpath = solve_path(fname, parent=folder)\n",
    "    \n",
    "    if os.path.exists(fpath):\n",
    "        return pd.read_excel(fpath)\n",
    "    \n",
    "    with requests.get(link) as r:\n",
    "        data = r.content\n",
    "    data = BytesIO(data)\n",
    "    df = pd.read_excel(data, **read_excel)\n",
    "    df.to_excel(fpath, index=False)\n",
    "    \n",
    "    return df"
   ]
  },
  {
   "cell_type": "code",
   "execution_count": 5,
   "id": "349bad7b-3eff-4faf-bf15-2913a3b60c79",
   "metadata": {},
   "outputs": [],
   "source": [
    "df = download_xl(link_pdm_final, 'pdm_versao_final.xlsx',\n",
    "                 ORIGINAL_DATA_DIR, skiprows=1)"
   ]
  },
  {
   "cell_type": "code",
   "execution_count": 6,
   "id": "6ba455ce-aa53-4844-a18e-c8b7cf69c5b6",
   "metadata": {},
   "outputs": [],
   "source": [
    "de_para_metas = {\n",
    "    'Meta_numero' : 'codigo',\n",
    "    'Meta_descricao' : 'titulo',\n",
    "    'Contexto' : 'contexto',\n",
    "    'Informações Complementares' : 'complemento',\n",
    "    'Eixo' : 'macrotema',\n",
    "    'Objetivo Estratégico' : 'tema',\n",
    "    'Secretaria Responsável' : 'orgao',\n",
    "    'ODS vinculados' : 'ods',\n",
    "    'Indicador' : 'indicador'\n",
    "}"
   ]
  },
  {
   "cell_type": "code",
   "execution_count": 7,
   "id": "5a97d830-1728-4bac-a088-861abb8a7662",
   "metadata": {},
   "outputs": [
    {
     "data": {
      "text/plain": [
       "[]"
      ]
     },
     "execution_count": 7,
     "metadata": {},
     "output_type": "execute_result"
    }
   ],
   "source": [
    "[k for k in df.keys() if k not in de_para_metas]"
   ]
  },
  {
   "cell_type": "code",
   "execution_count": 8,
   "id": "de89f06d-7a84-4c4f-8164-bfcb4249f3ff",
   "metadata": {},
   "outputs": [],
   "source": [
    "df = df.rename(de_para_metas, axis=1)"
   ]
  },
  {
   "cell_type": "code",
   "execution_count": 9,
   "id": "af75b5c6-a9d7-460b-be41-33a806d953eb",
   "metadata": {},
   "outputs": [],
   "source": [
    "df['pdm_id'] = 1"
   ]
  },
  {
   "cell_type": "code",
   "execution_count": 10,
   "id": "5316cb53-6047-4b62-b026-2771e3dbd506",
   "metadata": {},
   "outputs": [],
   "source": [
    "df['id'] = df.index + 1"
   ]
  },
  {
   "cell_type": "code",
   "execution_count": 11,
   "id": "71f44e6c-5f18-47d8-aba0-b2334b405c00",
   "metadata": {},
   "outputs": [],
   "source": [
    "def normalize_table(df, col, renamed_col = False):\n",
    "    \n",
    "    table = df[[col, 'pdm_id']]\n",
    "    table = table.drop_duplicates().reset_index(drop=True)\n",
    "    table['id'] = table.index+1\n",
    "    \n",
    "    mapped = table[['id', col]].to_dict(orient='dict')[col]\n",
    "    #key+1 para coluna id começar em 1\n",
    "    mapped = {val : key+1 for key, val in mapped.items()}\n",
    "    \n",
    "    df[col+'_id'] = df[col].apply(lambda x: mapped[x])\n",
    "    df.drop(col, axis=1, inplace=True)\n",
    "    \n",
    "    if renamed_col:\n",
    "        table.rename({col : renamed_col}, axis=1, inplace=True)\n",
    "    \n",
    "    \n",
    "    return table"
   ]
  },
  {
   "cell_type": "code",
   "execution_count": 12,
   "id": "a5f07995-deaf-4b01-8efc-0491a6a8af69",
   "metadata": {},
   "outputs": [],
   "source": [
    "macrotemas = normalize_table(df, 'macrotema', 'descricao')"
   ]
  },
  {
   "cell_type": "code",
   "execution_count": 13,
   "id": "a34d3f0e-b030-4064-b7df-d31dd4a82811",
   "metadata": {},
   "outputs": [
    {
     "data": {
      "text/html": [
       "<div>\n",
       "<style scoped>\n",
       "    .dataframe tbody tr th:only-of-type {\n",
       "        vertical-align: middle;\n",
       "    }\n",
       "\n",
       "    .dataframe tbody tr th {\n",
       "        vertical-align: top;\n",
       "    }\n",
       "\n",
       "    .dataframe thead th {\n",
       "        text-align: right;\n",
       "    }\n",
       "</style>\n",
       "<table border=\"1\" class=\"dataframe\">\n",
       "  <thead>\n",
       "    <tr style=\"text-align: right;\">\n",
       "      <th></th>\n",
       "      <th>descricao</th>\n",
       "      <th>pdm_id</th>\n",
       "      <th>id</th>\n",
       "    </tr>\n",
       "  </thead>\n",
       "  <tbody>\n",
       "    <tr>\n",
       "      <th>0</th>\n",
       "      <td>SP Justa e Inclusiva</td>\n",
       "      <td>1</td>\n",
       "      <td>1</td>\n",
       "    </tr>\n",
       "    <tr>\n",
       "      <th>1</th>\n",
       "      <td>SP Segura e Bem Cuidada</td>\n",
       "      <td>1</td>\n",
       "      <td>2</td>\n",
       "    </tr>\n",
       "    <tr>\n",
       "      <th>2</th>\n",
       "      <td>SP Ágil</td>\n",
       "      <td>1</td>\n",
       "      <td>3</td>\n",
       "    </tr>\n",
       "    <tr>\n",
       "      <th>3</th>\n",
       "      <td>SP Inovadora e Criativa</td>\n",
       "      <td>1</td>\n",
       "      <td>4</td>\n",
       "    </tr>\n",
       "    <tr>\n",
       "      <th>4</th>\n",
       "      <td>SP Global e Sustentável</td>\n",
       "      <td>1</td>\n",
       "      <td>5</td>\n",
       "    </tr>\n",
       "    <tr>\n",
       "      <th>5</th>\n",
       "      <td>SP Eficiente</td>\n",
       "      <td>1</td>\n",
       "      <td>6</td>\n",
       "    </tr>\n",
       "  </tbody>\n",
       "</table>\n",
       "</div>"
      ],
      "text/plain": [
       "                 descricao  pdm_id  id\n",
       "0     SP Justa e Inclusiva       1   1\n",
       "1  SP Segura e Bem Cuidada       1   2\n",
       "2                  SP Ágil       1   3\n",
       "3  SP Inovadora e Criativa       1   4\n",
       "4  SP Global e Sustentável       1   5\n",
       "5             SP Eficiente       1   6"
      ]
     },
     "execution_count": 13,
     "metadata": {},
     "output_type": "execute_result"
    }
   ],
   "source": [
    "macrotemas"
   ]
  },
  {
   "cell_type": "code",
   "execution_count": 14,
   "id": "4a20e0af-f7f0-45b5-91e5-4003eab906b6",
   "metadata": {},
   "outputs": [],
   "source": [
    "temas = normalize_table(df, 'tema', 'descricao')"
   ]
  },
  {
   "cell_type": "code",
   "execution_count": 15,
   "id": "e3473a1c-96bf-4dd3-8d94-598b6c8849c7",
   "metadata": {},
   "outputs": [
    {
     "data": {
      "text/html": [
       "<div>\n",
       "<style scoped>\n",
       "    .dataframe tbody tr th:only-of-type {\n",
       "        vertical-align: middle;\n",
       "    }\n",
       "\n",
       "    .dataframe tbody tr th {\n",
       "        vertical-align: top;\n",
       "    }\n",
       "\n",
       "    .dataframe thead th {\n",
       "        text-align: right;\n",
       "    }\n",
       "</style>\n",
       "<table border=\"1\" class=\"dataframe\">\n",
       "  <thead>\n",
       "    <tr style=\"text-align: right;\">\n",
       "      <th></th>\n",
       "      <th>descricao</th>\n",
       "      <th>pdm_id</th>\n",
       "      <th>id</th>\n",
       "    </tr>\n",
       "  </thead>\n",
       "  <tbody>\n",
       "    <tr>\n",
       "      <th>0</th>\n",
       "      <td>Reduzir a pobreza e ampliar o acesso a direito...</td>\n",
       "      <td>1</td>\n",
       "      <td>1</td>\n",
       "    </tr>\n",
       "    <tr>\n",
       "      <th>1</th>\n",
       "      <td>Garantir à população atendimento integral em s...</td>\n",
       "      <td>1</td>\n",
       "      <td>2</td>\n",
       "    </tr>\n",
       "    <tr>\n",
       "      <th>2</th>\n",
       "      <td>Garantir a proteção integral e o pleno desenvo...</td>\n",
       "      <td>1</td>\n",
       "      <td>3</td>\n",
       "    </tr>\n",
       "    <tr>\n",
       "      <th>3</th>\n",
       "      <td>Promover o acesso à moradia, à urbanização e à...</td>\n",
       "      <td>1</td>\n",
       "      <td>4</td>\n",
       "    </tr>\n",
       "    <tr>\n",
       "      <th>4</th>\n",
       "      <td>Garantir à população idosa o pleno exercício d...</td>\n",
       "      <td>1</td>\n",
       "      <td>5</td>\n",
       "    </tr>\n",
       "  </tbody>\n",
       "</table>\n",
       "</div>"
      ],
      "text/plain": [
       "                                           descricao  pdm_id  id\n",
       "0  Reduzir a pobreza e ampliar o acesso a direito...       1   1\n",
       "1  Garantir à população atendimento integral em s...       1   2\n",
       "2  Garantir a proteção integral e o pleno desenvo...       1   3\n",
       "3  Promover o acesso à moradia, à urbanização e à...       1   4\n",
       "4  Garantir à população idosa o pleno exercício d...       1   5"
      ]
     },
     "execution_count": 15,
     "metadata": {},
     "output_type": "execute_result"
    }
   ],
   "source": [
    "temas.head()"
   ]
  },
  {
   "cell_type": "code",
   "execution_count": 16,
   "id": "e77162b8-718c-42e9-a88c-6f1bf976116c",
   "metadata": {},
   "outputs": [],
   "source": [
    "#não usamos subtema\n",
    "df['subtema_id'] = None"
   ]
  },
  {
   "cell_type": "code",
   "execution_count": 17,
   "id": "f0a0d6a6-daf3-4e38-894f-1d52d339035e",
   "metadata": {},
   "outputs": [],
   "source": [
    "def extrair_orgaos(df):\n",
    "    \n",
    "    orgaos = df['orgao'].unique()\n",
    "    orgaos_unicos = set()\n",
    "    \n",
    "    for item in orgaos:\n",
    "        splited = item.split(',')\n",
    "        for sigla in splited:\n",
    "            sigla = sigla.strip()\n",
    "            orgaos_unicos.add(sigla)\n",
    "            \n",
    "    return orgaos_unicos"
   ]
  },
  {
   "cell_type": "code",
   "execution_count": 18,
   "id": "02ccbaa0-6df0-4621-b07d-5d79ee771e36",
   "metadata": {},
   "outputs": [],
   "source": [
    "orgaos_unicos = extrair_orgaos(df)"
   ]
  },
  {
   "cell_type": "code",
   "execution_count": 19,
   "id": "8601c251-7dab-4f77-85ad-9188197cffbe",
   "metadata": {},
   "outputs": [],
   "source": [
    "orgaos_table = pd.read_csv(solve_path('orgaos.csv',\n",
    "                                      solve_path('estrutura_administrativa_simplificada',\n",
    "                                                'generated_data')),\n",
    "                          sep=';', encoding='latin-1')"
   ]
  },
  {
   "cell_type": "code",
   "execution_count": 20,
   "id": "24f394eb-6fa7-41c9-b085-377722a14d68",
   "metadata": {},
   "outputs": [
    {
     "data": {
      "text/html": [
       "<div>\n",
       "<style scoped>\n",
       "    .dataframe tbody tr th:only-of-type {\n",
       "        vertical-align: middle;\n",
       "    }\n",
       "\n",
       "    .dataframe tbody tr th {\n",
       "        vertical-align: top;\n",
       "    }\n",
       "\n",
       "    .dataframe thead th {\n",
       "        text-align: right;\n",
       "    }\n",
       "</style>\n",
       "<table border=\"1\" class=\"dataframe\">\n",
       "  <thead>\n",
       "    <tr style=\"text-align: right;\">\n",
       "      <th></th>\n",
       "      <th>id</th>\n",
       "      <th>tipo_orgao_id</th>\n",
       "      <th>sigla</th>\n",
       "      <th>descricao</th>\n",
       "    </tr>\n",
       "  </thead>\n",
       "  <tbody>\n",
       "    <tr>\n",
       "      <th>5</th>\n",
       "      <td>6</td>\n",
       "      <td>1</td>\n",
       "      <td>SECLIMA</td>\n",
       "      <td>Secretaria Executiva de Mudanças Climáticas</td>\n",
       "    </tr>\n",
       "    <tr>\n",
       "      <th>27</th>\n",
       "      <td>28</td>\n",
       "      <td>1</td>\n",
       "      <td>SMRI</td>\n",
       "      <td>Secretaria Municipal de Relações Internacionais</td>\n",
       "    </tr>\n",
       "    <tr>\n",
       "      <th>26</th>\n",
       "      <td>27</td>\n",
       "      <td>1</td>\n",
       "      <td>SMT</td>\n",
       "      <td>Secretaria Municipal de Mobilidade e Trânsito</td>\n",
       "    </tr>\n",
       "    <tr>\n",
       "      <th>78</th>\n",
       "      <td>15</td>\n",
       "      <td>3</td>\n",
       "      <td>SPSEC</td>\n",
       "      <td>SSP Securitização Companhia Paulistana de Secu...</td>\n",
       "    </tr>\n",
       "    <tr>\n",
       "      <th>0</th>\n",
       "      <td>1</td>\n",
       "      <td>1</td>\n",
       "      <td>CGM</td>\n",
       "      <td>Controladoria Geral do Município</td>\n",
       "    </tr>\n",
       "  </tbody>\n",
       "</table>\n",
       "</div>"
      ],
      "text/plain": [
       "    id  tipo_orgao_id    sigla  \\\n",
       "5    6              1  SECLIMA   \n",
       "27  28              1     SMRI   \n",
       "26  27              1      SMT   \n",
       "78  15              3    SPSEC   \n",
       "0    1              1      CGM   \n",
       "\n",
       "                                            descricao  \n",
       "5         Secretaria Executiva de Mudanças Climáticas  \n",
       "27    Secretaria Municipal de Relações Internacionais  \n",
       "26      Secretaria Municipal de Mobilidade e Trânsito  \n",
       "78  SSP Securitização Companhia Paulistana de Secu...  \n",
       "0                    Controladoria Geral do Município  "
      ]
     },
     "execution_count": 20,
     "metadata": {},
     "output_type": "execute_result"
    }
   ],
   "source": [
    "orgaos_table.sample(5)"
   ]
  },
  {
   "cell_type": "code",
   "execution_count": 21,
   "id": "5796adb0-0039-44e8-a9ac-2a3ece0a31b9",
   "metadata": {},
   "outputs": [
    {
     "name": "stdout",
     "output_type": "stream",
     "text": [
      "Todos os órgãos já estão na tabela\n"
     ]
    }
   ],
   "source": [
    "for sigla in orgaos_unicos:\n",
    "    if sigla not in orgaos_table['sigla'].unique():\n",
    "        print(sigla)\n",
    "else:\n",
    "    print('Todos os órgãos já estão na tabela')"
   ]
  },
  {
   "cell_type": "code",
   "execution_count": 22,
   "id": "bc5ba8ae-3c19-4fb9-9d73-a71c7bd54ac4",
   "metadata": {},
   "outputs": [],
   "source": [
    "def sigla_in_orgaos(sigla_alvo, orgao_cell):\n",
    "    \n",
    "    splited = orgao_cell.split(',')\n",
    "    \n",
    "    for sigla in splited:\n",
    "        sigla = sigla.strip()\n",
    "        if sigla==sigla_alvo:\n",
    "            return True\n",
    "    else:\n",
    "        return False\n",
    "\n",
    "def cross_table_orgaos(df, orgaos_table):\n",
    "    \n",
    "    mapped = orgaos_table.to_dict()['sigla']\n",
    "    #key+1 para indexar em 1 não 0\n",
    "    mapped = {val : key+1 for key, val in mapped.items()}\n",
    "    \n",
    "    data = []\n",
    "    id_ = 1\n",
    "    for i, row in df.iterrows():\n",
    "        orgao_cell = row['orgao']\n",
    "        meta_id = row['id']\n",
    "        for orgao_sigla, orgao_id in mapped.items():\n",
    "            if sigla_in_orgaos(orgao_sigla, orgao_cell):\n",
    "                #colocando False para todos no orgao responsavel\n",
    "                #depois equipe CP atualiza essa info\n",
    "                data_row = (id_, meta_id, orgao_id, False)\n",
    "                data.append(data_row)\n",
    "                id_+=1\n",
    "    df.drop('orgao', axis=1, inplace=True)\n",
    "    \n",
    "    return pd.DataFrame(data, columns = ('id', 'meta_id', \n",
    "                                         'orgao_id', 'orgao_responsavel'))"
   ]
  },
  {
   "cell_type": "code",
   "execution_count": 23,
   "id": "f8dbbb6b-5d82-434a-a068-c19198d2802a",
   "metadata": {},
   "outputs": [],
   "source": [
    "meta_orgao = cross_table_orgaos(df, orgaos_table)"
   ]
  },
  {
   "cell_type": "code",
   "execution_count": 24,
   "id": "acc58453-9c7f-487a-9742-4247a959c6a3",
   "metadata": {},
   "outputs": [
    {
     "data": {
      "text/html": [
       "<div>\n",
       "<style scoped>\n",
       "    .dataframe tbody tr th:only-of-type {\n",
       "        vertical-align: middle;\n",
       "    }\n",
       "\n",
       "    .dataframe tbody tr th {\n",
       "        vertical-align: top;\n",
       "    }\n",
       "\n",
       "    .dataframe thead th {\n",
       "        text-align: right;\n",
       "    }\n",
       "</style>\n",
       "<table border=\"1\" class=\"dataframe\">\n",
       "  <thead>\n",
       "    <tr style=\"text-align: right;\">\n",
       "      <th></th>\n",
       "      <th>id</th>\n",
       "      <th>meta_id</th>\n",
       "      <th>orgao_id</th>\n",
       "      <th>orgao_responsavel</th>\n",
       "    </tr>\n",
       "  </thead>\n",
       "  <tbody>\n",
       "    <tr>\n",
       "      <th>22</th>\n",
       "      <td>23</td>\n",
       "      <td>13</td>\n",
       "      <td>23</td>\n",
       "      <td>False</td>\n",
       "    </tr>\n",
       "    <tr>\n",
       "      <th>5</th>\n",
       "      <td>6</td>\n",
       "      <td>2</td>\n",
       "      <td>14</td>\n",
       "      <td>False</td>\n",
       "    </tr>\n",
       "    <tr>\n",
       "      <th>59</th>\n",
       "      <td>60</td>\n",
       "      <td>39</td>\n",
       "      <td>27</td>\n",
       "      <td>False</td>\n",
       "    </tr>\n",
       "    <tr>\n",
       "      <th>0</th>\n",
       "      <td>1</td>\n",
       "      <td>1</td>\n",
       "      <td>3</td>\n",
       "      <td>False</td>\n",
       "    </tr>\n",
       "    <tr>\n",
       "      <th>108</th>\n",
       "      <td>109</td>\n",
       "      <td>74</td>\n",
       "      <td>2</td>\n",
       "      <td>False</td>\n",
       "    </tr>\n",
       "  </tbody>\n",
       "</table>\n",
       "</div>"
      ],
      "text/plain": [
       "      id  meta_id  orgao_id  orgao_responsavel\n",
       "22    23       13        23              False\n",
       "5      6        2        14              False\n",
       "59    60       39        27              False\n",
       "0      1        1         3              False\n",
       "108  109       74         2              False"
      ]
     },
     "execution_count": 24,
     "metadata": {},
     "output_type": "execute_result"
    }
   ],
   "source": [
    "meta_orgao.sample(5)"
   ]
  },
  {
   "cell_type": "code",
   "execution_count": 25,
   "id": "b7d4747a-1565-437b-baef-d0be5b48d615",
   "metadata": {},
   "outputs": [],
   "source": [
    "def save_df(df, fname, folder = GENERATED_DATA_DIR):\n",
    "    \n",
    "    fname = solve_path(fname, folder)\n",
    "    \n",
    "    try:\n",
    "        df.to_csv(fname, sep =';', decimal=',', \n",
    "                  encoding='latin-1', index=False)\n",
    "    except UnicodeEncodeError:\n",
    "        df.to_csv(fname, sep =';', decimal=',', \n",
    "                  encoding='utf-8', index=False)"
   ]
  },
  {
   "cell_type": "code",
   "execution_count": 26,
   "id": "505a1c7e-857a-4cc5-b8b5-a8423694463e",
   "metadata": {},
   "outputs": [],
   "source": [
    "df.rename({'indicador' : 'indicador_temp',\n",
    "          'ods' : 'ods_temp'}, axis=1, inplace=True)"
   ]
  },
  {
   "cell_type": "code",
   "execution_count": 27,
   "id": "9e640eb2-5f87-4641-a911-066e60b4c8bb",
   "metadata": {},
   "outputs": [],
   "source": [
    "df['inativa'] = False\n",
    "df['status'] = None\n",
    "df['motivo_inativacao'] = None\n",
    "df['data_inativacao'] = None"
   ]
  },
  {
   "cell_type": "code",
   "execution_count": 28,
   "id": "822277cb-40eb-4ad5-b77d-9cd93c7e11b6",
   "metadata": {},
   "outputs": [],
   "source": [
    "df.fillna(value='NULL', inplace=True)"
   ]
  },
  {
   "cell_type": "code",
   "execution_count": 29,
   "id": "b18389cd-ff72-405b-8334-0e45e0901a40",
   "metadata": {},
   "outputs": [
    {
     "data": {
      "text/plain": [
       "Index(['codigo', 'titulo', 'indicador_temp', 'contexto', 'complemento',\n",
       "       'ods_temp', 'pdm_id', 'id', 'macrotema_id', 'tema_id', 'subtema_id',\n",
       "       'inativa', 'status', 'motivo_inativacao', 'data_inativacao'],\n",
       "      dtype='object')"
      ]
     },
     "execution_count": 29,
     "metadata": {},
     "output_type": "execute_result"
    }
   ],
   "source": [
    "df.keys()"
   ]
  },
  {
   "cell_type": "code",
   "execution_count": 30,
   "id": "68e8807a-7423-4cf0-aa92-48a012346fb3",
   "metadata": {},
   "outputs": [],
   "source": [
    "col_order = [\n",
    "             'id', \n",
    "             'pdm_id',\n",
    "             'codigo', \n",
    "             'titulo', \n",
    "             'contexto',\n",
    "             'complemento',\n",
    "             'macrotema_id', \n",
    "             'tema_id', \n",
    "             'subtema_id',\n",
    "             'status', \n",
    "             'inativa', \n",
    "             'motivo_inativacao', \n",
    "             'data_inativacao',\n",
    "             'indicador_temp',\n",
    "             'ods_temp',\n",
    "            ]"
   ]
  },
  {
   "cell_type": "code",
   "execution_count": 31,
   "id": "b8caa55d-1cc4-4bcc-b43f-8c67bfa1b9fa",
   "metadata": {},
   "outputs": [],
   "source": [
    "df = df[col_order]"
   ]
  },
  {
   "cell_type": "code",
   "execution_count": 32,
   "id": "bc86f787-fb42-4ca3-b4f6-66e0d27044b6",
   "metadata": {},
   "outputs": [],
   "source": [
    "save_df(df, 'Meta.csv')"
   ]
  },
  {
   "cell_type": "code",
   "execution_count": 33,
   "id": "6fc3a48c-4b75-4852-9410-57259e3809e3",
   "metadata": {},
   "outputs": [],
   "source": [
    "save_df(macrotemas, 'macro_tema.csv')"
   ]
  },
  {
   "cell_type": "code",
   "execution_count": 34,
   "id": "f4a252af-65de-4728-99dd-0bc412e89759",
   "metadata": {},
   "outputs": [],
   "source": [
    "save_df(temas, 'tema.csv')"
   ]
  },
  {
   "cell_type": "code",
   "execution_count": 35,
   "id": "6d9bb7ef-ec28-4f3b-992a-80c85d2c0c32",
   "metadata": {},
   "outputs": [],
   "source": [
    "save_df(meta_orgao, 'Meta_Orgao.csv')"
   ]
  },
  {
   "cell_type": "code",
   "execution_count": 36,
   "id": "197a2d8f-1439-4bc5-8105-771a43c9c78c",
   "metadata": {},
   "outputs": [],
   "source": [
    "#vou guardar o dataframe principal como \"metas\"\n",
    "#para seguir com a analise das iniciativas\n",
    "metas = df"
   ]
  },
  {
   "cell_type": "code",
   "execution_count": 37,
   "id": "16b8a4c1-b874-475a-a590-4268650c3016",
   "metadata": {},
   "outputs": [],
   "source": [
    "iniciativas = download_xl(link_pdm_final, 'pdm_versao_final_iniciativas.xlsx',\n",
    "                 ORIGINAL_DATA_DIR, skiprows=1, sheet_name='iniciativas')"
   ]
  },
  {
   "cell_type": "code",
   "execution_count": 38,
   "id": "2fd1fe2c-de9a-4922-989d-532feddf8a95",
   "metadata": {},
   "outputs": [
    {
     "data": {
      "text/html": [
       "<div>\n",
       "<style scoped>\n",
       "    .dataframe tbody tr th:only-of-type {\n",
       "        vertical-align: middle;\n",
       "    }\n",
       "\n",
       "    .dataframe tbody tr th {\n",
       "        vertical-align: top;\n",
       "    }\n",
       "\n",
       "    .dataframe thead th {\n",
       "        text-align: right;\n",
       "    }\n",
       "</style>\n",
       "<table border=\"1\" class=\"dataframe\">\n",
       "  <thead>\n",
       "    <tr style=\"text-align: right;\">\n",
       "      <th></th>\n",
       "      <th>Meta_numero</th>\n",
       "      <th>Meta_descricao</th>\n",
       "      <th>Iniciativa</th>\n",
       "      <th>Iniciativa_descricao</th>\n",
       "    </tr>\n",
       "  </thead>\n",
       "  <tbody>\n",
       "    <tr>\n",
       "      <th>0</th>\n",
       "      <td>1</td>\n",
       "      <td>Atender 1.700.000 pessoas em programas de tran...</td>\n",
       "      <td>a</td>\n",
       "      <td>Atender 1.250.000 pessoas em programas de tran...</td>\n",
       "    </tr>\n",
       "    <tr>\n",
       "      <th>1</th>\n",
       "      <td>1</td>\n",
       "      <td>Atender 1.700.000 pessoas em programas de tran...</td>\n",
       "      <td>b</td>\n",
       "      <td>Atender 450.000 pessoas em programas de transf...</td>\n",
       "    </tr>\n",
       "    <tr>\n",
       "      <th>2</th>\n",
       "      <td>1</td>\n",
       "      <td>Atender 1.700.000 pessoas em programas de tran...</td>\n",
       "      <td>c</td>\n",
       "      <td>Aprimorar e racionalizar os cadastros dos bene...</td>\n",
       "    </tr>\n",
       "    <tr>\n",
       "      <th>3</th>\n",
       "      <td>2</td>\n",
       "      <td>Implantar o Prontuário Eletrônico em 100% das ...</td>\n",
       "      <td>a</td>\n",
       "      <td>Adquirir equipamentos para implantação do pron...</td>\n",
       "    </tr>\n",
       "    <tr>\n",
       "      <th>4</th>\n",
       "      <td>2</td>\n",
       "      <td>Implantar o Prontuário Eletrônico em 100% das ...</td>\n",
       "      <td>b</td>\n",
       "      <td>Implantar infraestrutura de tecnologia da info...</td>\n",
       "    </tr>\n",
       "  </tbody>\n",
       "</table>\n",
       "</div>"
      ],
      "text/plain": [
       "   Meta_numero                                     Meta_descricao Iniciativa  \\\n",
       "0            1  Atender 1.700.000 pessoas em programas de tran...          a   \n",
       "1            1  Atender 1.700.000 pessoas em programas de tran...          b   \n",
       "2            1  Atender 1.700.000 pessoas em programas de tran...          c   \n",
       "3            2  Implantar o Prontuário Eletrônico em 100% das ...          a   \n",
       "4            2  Implantar o Prontuário Eletrônico em 100% das ...          b   \n",
       "\n",
       "                                Iniciativa_descricao  \n",
       "0  Atender 1.250.000 pessoas em programas de tran...  \n",
       "1  Atender 450.000 pessoas em programas de transf...  \n",
       "2  Aprimorar e racionalizar os cadastros dos bene...  \n",
       "3  Adquirir equipamentos para implantação do pron...  \n",
       "4  Implantar infraestrutura de tecnologia da info...  "
      ]
     },
     "execution_count": 38,
     "metadata": {},
     "output_type": "execute_result"
    }
   ],
   "source": [
    "iniciativas.head()"
   ]
  },
  {
   "cell_type": "code",
   "execution_count": 39,
   "id": "448ab989-7d6f-4aab-9937-ee04964ebb58",
   "metadata": {},
   "outputs": [],
   "source": [
    "iniciativas['codigo'] = iniciativas.apply(lambda row: str(row['Meta_numero']) + '.' + row['Iniciativa'],\n",
    "                                         axis=1)"
   ]
  },
  {
   "cell_type": "code",
   "execution_count": 40,
   "id": "87762cbe-69be-47cf-92d6-f2d182a4c444",
   "metadata": {},
   "outputs": [],
   "source": [
    "iniciativas = iniciativas.rename({'Iniciativa_descricao' : 'titulo'}, axis=1)"
   ]
  },
  {
   "cell_type": "code",
   "execution_count": 41,
   "id": "783259f5-d1e1-4a25-afe0-6e058e384bde",
   "metadata": {},
   "outputs": [],
   "source": [
    "iniciativas['descricao'] = None\n",
    "iniciativas['compoe_indicador_meta'] = None\n",
    "iniciativas['status'] = None"
   ]
  },
  {
   "cell_type": "code",
   "execution_count": 42,
   "id": "bd33914d-8d4d-4345-a520-bda264189f2e",
   "metadata": {},
   "outputs": [
    {
     "data": {
      "text/plain": [
       "True"
      ]
     },
     "execution_count": 42,
     "metadata": {},
     "output_type": "execute_result"
    }
   ],
   "source": [
    "#checando se o id da meta é igual o código da meta\n",
    "(metas['codigo']==metas['id']).all()"
   ]
  },
  {
   "cell_type": "code",
   "execution_count": 43,
   "id": "7e1788e5-37b1-4d40-b723-a95885f29803",
   "metadata": {},
   "outputs": [],
   "source": [
    "iniciativas = iniciativas.rename({'Meta_numero' : 'meta_id'}, axis=1)"
   ]
  },
  {
   "cell_type": "code",
   "execution_count": 44,
   "id": "92cf6d6f-9607-467b-90e3-4baa8e10ef68",
   "metadata": {},
   "outputs": [],
   "source": [
    "iniciativas['id'] = iniciativas.index+1"
   ]
  },
  {
   "cell_type": "code",
   "execution_count": 45,
   "id": "cf17c242-7c28-4802-bb23-f9b5915f3bfa",
   "metadata": {},
   "outputs": [],
   "source": [
    "cols = ['id', 'meta_id', 'codigo', 'titulo', 'descricao', 'compoe_indicador_meta', 'status']"
   ]
  },
  {
   "cell_type": "code",
   "execution_count": 46,
   "id": "4f35edd7-d215-411a-aa8c-47dd7edb858d",
   "metadata": {},
   "outputs": [],
   "source": [
    "iniciativas = iniciativas[cols]"
   ]
  },
  {
   "cell_type": "code",
   "execution_count": 47,
   "id": "e80378cc-d78f-4964-a590-352b576e3edb",
   "metadata": {},
   "outputs": [
    {
     "data": {
      "text/html": [
       "<div>\n",
       "<style scoped>\n",
       "    .dataframe tbody tr th:only-of-type {\n",
       "        vertical-align: middle;\n",
       "    }\n",
       "\n",
       "    .dataframe tbody tr th {\n",
       "        vertical-align: top;\n",
       "    }\n",
       "\n",
       "    .dataframe thead th {\n",
       "        text-align: right;\n",
       "    }\n",
       "</style>\n",
       "<table border=\"1\" class=\"dataframe\">\n",
       "  <thead>\n",
       "    <tr style=\"text-align: right;\">\n",
       "      <th></th>\n",
       "      <th>id</th>\n",
       "      <th>meta_id</th>\n",
       "      <th>codigo</th>\n",
       "      <th>titulo</th>\n",
       "      <th>descricao</th>\n",
       "      <th>compoe_indicador_meta</th>\n",
       "      <th>status</th>\n",
       "    </tr>\n",
       "  </thead>\n",
       "  <tbody>\n",
       "    <tr>\n",
       "      <th>0</th>\n",
       "      <td>1</td>\n",
       "      <td>1</td>\n",
       "      <td>1.a</td>\n",
       "      <td>Atender 1.250.000 pessoas em programas de tran...</td>\n",
       "      <td>None</td>\n",
       "      <td>None</td>\n",
       "      <td>None</td>\n",
       "    </tr>\n",
       "    <tr>\n",
       "      <th>1</th>\n",
       "      <td>2</td>\n",
       "      <td>1</td>\n",
       "      <td>1.b</td>\n",
       "      <td>Atender 450.000 pessoas em programas de transf...</td>\n",
       "      <td>None</td>\n",
       "      <td>None</td>\n",
       "      <td>None</td>\n",
       "    </tr>\n",
       "    <tr>\n",
       "      <th>2</th>\n",
       "      <td>3</td>\n",
       "      <td>1</td>\n",
       "      <td>1.c</td>\n",
       "      <td>Aprimorar e racionalizar os cadastros dos bene...</td>\n",
       "      <td>None</td>\n",
       "      <td>None</td>\n",
       "      <td>None</td>\n",
       "    </tr>\n",
       "    <tr>\n",
       "      <th>3</th>\n",
       "      <td>4</td>\n",
       "      <td>2</td>\n",
       "      <td>2.a</td>\n",
       "      <td>Adquirir equipamentos para implantação do pron...</td>\n",
       "      <td>None</td>\n",
       "      <td>None</td>\n",
       "      <td>None</td>\n",
       "    </tr>\n",
       "    <tr>\n",
       "      <th>4</th>\n",
       "      <td>5</td>\n",
       "      <td>2</td>\n",
       "      <td>2.b</td>\n",
       "      <td>Implantar infraestrutura de tecnologia da info...</td>\n",
       "      <td>None</td>\n",
       "      <td>None</td>\n",
       "      <td>None</td>\n",
       "    </tr>\n",
       "  </tbody>\n",
       "</table>\n",
       "</div>"
      ],
      "text/plain": [
       "   id  meta_id codigo                                             titulo  \\\n",
       "0   1        1    1.a  Atender 1.250.000 pessoas em programas de tran...   \n",
       "1   2        1    1.b  Atender 450.000 pessoas em programas de transf...   \n",
       "2   3        1    1.c  Aprimorar e racionalizar os cadastros dos bene...   \n",
       "3   4        2    2.a  Adquirir equipamentos para implantação do pron...   \n",
       "4   5        2    2.b  Implantar infraestrutura de tecnologia da info...   \n",
       "\n",
       "  descricao compoe_indicador_meta status  \n",
       "0      None                  None   None  \n",
       "1      None                  None   None  \n",
       "2      None                  None   None  \n",
       "3      None                  None   None  \n",
       "4      None                  None   None  "
      ]
     },
     "execution_count": 47,
     "metadata": {},
     "output_type": "execute_result"
    }
   ],
   "source": [
    "iniciativas.head()"
   ]
  },
  {
   "cell_type": "code",
   "execution_count": 48,
   "id": "1d6d33cf-3e99-4fdb-b286-4394a08bc9a7",
   "metadata": {},
   "outputs": [],
   "source": [
    "iniciativas.fillna('NULL', inplace=True)"
   ]
  },
  {
   "cell_type": "code",
   "execution_count": 49,
   "id": "d14b1d90-aae8-491a-87ac-8b1f002ce9db",
   "metadata": {},
   "outputs": [],
   "source": [
    "save_df(iniciativas, 'Iniciativa.csv')"
   ]
  },
  {
   "cell_type": "code",
   "execution_count": 50,
   "id": "dcc9b245-43e5-49dd-bb1e-e9aed5941440",
   "metadata": {},
   "outputs": [],
   "source": [
    "indicadores = metas[['codigo', 'indicador_temp']]"
   ]
  },
  {
   "cell_type": "code",
   "execution_count": 51,
   "id": "50aceca2-8648-4764-9f2e-1c3e678529f2",
   "metadata": {},
   "outputs": [],
   "source": [
    "indicadores = indicadores.rename({'codigo' : 'id_meta',\n",
    "                                 'indicador_temp' : 'titulo'}, axis=1)"
   ]
  },
  {
   "cell_type": "code",
   "execution_count": 52,
   "id": "60fe4464-7ee9-4582-879c-8150c834ceb9",
   "metadata": {},
   "outputs": [],
   "source": [
    "indicadores = indicadores.reset_index(drop=True)\n",
    "indicadores['id'] = indicadores.index+1"
   ]
  },
  {
   "cell_type": "code",
   "execution_count": 53,
   "id": "807fb357-7d45-42cb-93a3-e543b668678c",
   "metadata": {},
   "outputs": [],
   "source": [
    "df_origi = download_xl(link_pdm_final, 'pdm_versao_final.xlsx',\n",
    "                 ORIGINAL_DATA_DIR, skiprows=1)"
   ]
  },
  {
   "cell_type": "code",
   "execution_count": 54,
   "id": "641e89d2-663b-4240-bda7-97f2f649a72c",
   "metadata": {},
   "outputs": [],
   "source": [
    "indicadores['codigo'] = 'indi_' + indicadores['id'].astype(str)"
   ]
  },
  {
   "cell_type": "code",
   "execution_count": 55,
   "id": "ff23c9da-ec4e-48e6-9b08-01157db483e0",
   "metadata": {},
   "outputs": [],
   "source": [
    "cols_indicadores = [\n",
    "    'id',\n",
    "    'id_meta',\n",
    "    'id_iniciativa',\n",
    "    'id_atividade',\n",
    "    'codigo',\n",
    "    'titulo',\n",
    "    'contexto',\n",
    "    'observacao',\n",
    "    'polaridade',\n",
    "    'tipo_regiao',\n",
    "    'por_regiao',\n",
    "    'agregador_id',\n",
    "    'valor_base',\n",
    "    'unidade',\n",
    "    'periodicidade',\n",
    "    'janela'\n",
    "]"
   ]
  },
  {
   "cell_type": "code",
   "execution_count": 56,
   "id": "aba87946-d746-4fa3-a7bd-8f47bff94d50",
   "metadata": {},
   "outputs": [],
   "source": [
    "for col in cols_indicadores:\n",
    "    if col not in indicadores.columns:\n",
    "        indicadores[col] = None"
   ]
  },
  {
   "cell_type": "code",
   "execution_count": 57,
   "id": "b15bc2bd-b580-4c99-b3a5-4d39803180cd",
   "metadata": {},
   "outputs": [],
   "source": [
    "indicadores.fillna('NULL', inplace=True)"
   ]
  },
  {
   "cell_type": "code",
   "execution_count": 58,
   "id": "6def7a25-6128-4212-93f7-a83bd6bb3cdb",
   "metadata": {},
   "outputs": [],
   "source": [
    "indicadores = indicadores[cols_indicadores]"
   ]
  },
  {
   "cell_type": "code",
   "execution_count": 59,
   "id": "986440cf-fdc7-477d-b6fa-b06b64d4798c",
   "metadata": {},
   "outputs": [
    {
     "data": {
      "text/html": [
       "<div>\n",
       "<style scoped>\n",
       "    .dataframe tbody tr th:only-of-type {\n",
       "        vertical-align: middle;\n",
       "    }\n",
       "\n",
       "    .dataframe tbody tr th {\n",
       "        vertical-align: top;\n",
       "    }\n",
       "\n",
       "    .dataframe thead th {\n",
       "        text-align: right;\n",
       "    }\n",
       "</style>\n",
       "<table border=\"1\" class=\"dataframe\">\n",
       "  <thead>\n",
       "    <tr style=\"text-align: right;\">\n",
       "      <th></th>\n",
       "      <th>id</th>\n",
       "      <th>id_meta</th>\n",
       "      <th>id_iniciativa</th>\n",
       "      <th>id_atividade</th>\n",
       "      <th>codigo</th>\n",
       "      <th>titulo</th>\n",
       "      <th>contexto</th>\n",
       "      <th>observacao</th>\n",
       "      <th>polaridade</th>\n",
       "      <th>tipo_regiao</th>\n",
       "      <th>por_regiao</th>\n",
       "      <th>agregador_id</th>\n",
       "      <th>valor_base</th>\n",
       "      <th>unidade</th>\n",
       "      <th>periodicidade</th>\n",
       "      <th>janela</th>\n",
       "    </tr>\n",
       "  </thead>\n",
       "  <tbody>\n",
       "    <tr>\n",
       "      <th>0</th>\n",
       "      <td>1</td>\n",
       "      <td>1</td>\n",
       "      <td>NULL</td>\n",
       "      <td>NULL</td>\n",
       "      <td>indi_1</td>\n",
       "      <td>Média móvel dos últimos 12 meses do número de ...</td>\n",
       "      <td>NULL</td>\n",
       "      <td>NULL</td>\n",
       "      <td>NULL</td>\n",
       "      <td>NULL</td>\n",
       "      <td>NULL</td>\n",
       "      <td>NULL</td>\n",
       "      <td>NULL</td>\n",
       "      <td>NULL</td>\n",
       "      <td>NULL</td>\n",
       "      <td>NULL</td>\n",
       "    </tr>\n",
       "    <tr>\n",
       "      <th>1</th>\n",
       "      <td>2</td>\n",
       "      <td>2</td>\n",
       "      <td>NULL</td>\n",
       "      <td>NULL</td>\n",
       "      <td>indi_2</td>\n",
       "      <td>Percentual de Unidades Básicas de Saúde com pr...</td>\n",
       "      <td>NULL</td>\n",
       "      <td>NULL</td>\n",
       "      <td>NULL</td>\n",
       "      <td>NULL</td>\n",
       "      <td>NULL</td>\n",
       "      <td>NULL</td>\n",
       "      <td>NULL</td>\n",
       "      <td>NULL</td>\n",
       "      <td>NULL</td>\n",
       "      <td>NULL</td>\n",
       "    </tr>\n",
       "    <tr>\n",
       "      <th>2</th>\n",
       "      <td>3</td>\n",
       "      <td>3</td>\n",
       "      <td>NULL</td>\n",
       "      <td>NULL</td>\n",
       "      <td>indi_3</td>\n",
       "      <td>Número de equipamentos de saúde implantados (s...</td>\n",
       "      <td>NULL</td>\n",
       "      <td>NULL</td>\n",
       "      <td>NULL</td>\n",
       "      <td>NULL</td>\n",
       "      <td>NULL</td>\n",
       "      <td>NULL</td>\n",
       "      <td>NULL</td>\n",
       "      <td>NULL</td>\n",
       "      <td>NULL</td>\n",
       "      <td>NULL</td>\n",
       "    </tr>\n",
       "    <tr>\n",
       "      <th>3</th>\n",
       "      <td>4</td>\n",
       "      <td>4</td>\n",
       "      <td>NULL</td>\n",
       "      <td>NULL</td>\n",
       "      <td>indi_4</td>\n",
       "      <td>Número de equipamentos de saúde reformados e/o...</td>\n",
       "      <td>NULL</td>\n",
       "      <td>NULL</td>\n",
       "      <td>NULL</td>\n",
       "      <td>NULL</td>\n",
       "      <td>NULL</td>\n",
       "      <td>NULL</td>\n",
       "      <td>NULL</td>\n",
       "      <td>NULL</td>\n",
       "      <td>NULL</td>\n",
       "      <td>NULL</td>\n",
       "    </tr>\n",
       "    <tr>\n",
       "      <th>4</th>\n",
       "      <td>5</td>\n",
       "      <td>5</td>\n",
       "      <td>NULL</td>\n",
       "      <td>NULL</td>\n",
       "      <td>indi_5</td>\n",
       "      <td>Número de centros implantados e em funcionamento.</td>\n",
       "      <td>NULL</td>\n",
       "      <td>NULL</td>\n",
       "      <td>NULL</td>\n",
       "      <td>NULL</td>\n",
       "      <td>NULL</td>\n",
       "      <td>NULL</td>\n",
       "      <td>NULL</td>\n",
       "      <td>NULL</td>\n",
       "      <td>NULL</td>\n",
       "      <td>NULL</td>\n",
       "    </tr>\n",
       "  </tbody>\n",
       "</table>\n",
       "</div>"
      ],
      "text/plain": [
       "   id  id_meta id_iniciativa id_atividade  codigo  \\\n",
       "0   1        1          NULL         NULL  indi_1   \n",
       "1   2        2          NULL         NULL  indi_2   \n",
       "2   3        3          NULL         NULL  indi_3   \n",
       "3   4        4          NULL         NULL  indi_4   \n",
       "4   5        5          NULL         NULL  indi_5   \n",
       "\n",
       "                                              titulo contexto observacao  \\\n",
       "0  Média móvel dos últimos 12 meses do número de ...     NULL       NULL   \n",
       "1  Percentual de Unidades Básicas de Saúde com pr...     NULL       NULL   \n",
       "2  Número de equipamentos de saúde implantados (s...     NULL       NULL   \n",
       "3  Número de equipamentos de saúde reformados e/o...     NULL       NULL   \n",
       "4  Número de centros implantados e em funcionamento.     NULL       NULL   \n",
       "\n",
       "  polaridade tipo_regiao por_regiao agregador_id valor_base unidade  \\\n",
       "0       NULL        NULL       NULL         NULL       NULL    NULL   \n",
       "1       NULL        NULL       NULL         NULL       NULL    NULL   \n",
       "2       NULL        NULL       NULL         NULL       NULL    NULL   \n",
       "3       NULL        NULL       NULL         NULL       NULL    NULL   \n",
       "4       NULL        NULL       NULL         NULL       NULL    NULL   \n",
       "\n",
       "  periodicidade janela  \n",
       "0          NULL   NULL  \n",
       "1          NULL   NULL  \n",
       "2          NULL   NULL  \n",
       "3          NULL   NULL  \n",
       "4          NULL   NULL  "
      ]
     },
     "execution_count": 59,
     "metadata": {},
     "output_type": "execute_result"
    }
   ],
   "source": [
    "indicadores.head()"
   ]
  },
  {
   "cell_type": "code",
   "execution_count": 60,
   "id": "f67dfec3-1669-4afa-b9a4-6c8372a790af",
   "metadata": {},
   "outputs": [],
   "source": [
    "save_df(indicadores, 'Indicador.csv')"
   ]
  },
  {
   "cell_type": "code",
   "execution_count": 61,
   "id": "0ba37777-e570-4a4f-ac4b-0ef5125efe15",
   "metadata": {},
   "outputs": [],
   "source": [
    "#PEGUEI OS ODS ABAIXO OD SITE DA ONU\n",
    "ods_onu ='''ODS 1 – Erradicação da pobreza: acabar com a pobreza em todas as suas formas, em todos os lugares.;\n",
    "ODS 2 – Fome zero e agricultura sustentável: acabar com a fome, alcançar a segurança alimentar e melhoria da nutrição e promover a agricultura sustentável.;\n",
    "ODS 3 – Saúde e bem-estar: assegurar uma vida saudável e promover o bem-estar para todos, em todas as idades.;\n",
    "ODS 4 – Educação de qualidade: assegurar a educação inclusiva, equitativa e de qualidade, e promover oportunidades de aprendizagem ao longo da vida para todos.;\n",
    "ODS 5 – Igualdade de gênero: alcançar a igualdade de gênero e empoderar todas as mulheres e meninas.;\n",
    "ODS 6 – Água potável e saneamento: garantir disponibilidade e manejo sustentável da água e saneamento para todos.;\n",
    "ODS 7 – Energia limpa e acessível: garantir acesso à energia barata, confiável, sustentável e renovável para todos.;\n",
    "ODS 8 – Trabalho decente e crescimento econômico: promover o crescimento econômico sustentado, inclusivo e sustentável, emprego pleno e produtivo, e trabalho decente para todos.;\n",
    "ODS 9 – Indústria, inovação e infraestrutura: construir infraestrutura resiliente, promover a industrialização inclusiva e sustentável, e fomentar a inovação.;\n",
    "ODS 10 – Redução das desigualdades: reduzir as desigualdades dentro dos países e entre eles.;\n",
    "ODS 11 – Cidades e comunidades sustentáveis: tornar as cidades e os assentamentos humanos inclusivos, seguros, resilientes e sustentáveis.;\n",
    "ODS 12 – Consumo e produção responsáveis: assegurar padrões de produção e de consumo sustentáveis.;\n",
    "ODS 13 – Ação contra a mudança global do clima: tomar medidas urgentes para combater a mudança climática e seus impactos.;\n",
    "ODS 14 – Vida na água: conservação e uso sustentável dos oceanos, dos mares e dos recursos marinhos para o desenvolvimento sustentável.;\n",
    "ODS 15 – Vida terrestre: proteger, recuperar e promover o uso sustentável dos ecossistemas terrestres, gerir de forma sustentável as florestas, combater a desertificação, deter e reverter a degradação da Terra e deter a perda da biodiversidade.;\n",
    "ODS 16 – Paz, justiça e instituições eficazes: promover sociedades pacíficas e inclusivas para o desenvolvimento sustentável, proporcionar o acesso à justiça para todos e construir instituições eficazes, responsáveis e inclusivas em todos os níveis.;\n",
    "ODS 17 – Parcerias e meios de implementação: fortalecer os meios de implementação e revitalizar a parceria global para o desenvolvimento sustentável.'''"
   ]
  },
  {
   "cell_type": "code",
   "execution_count": 62,
   "id": "5ca10ddb-4bc4-4706-b79c-92d2f2474ee4",
   "metadata": {},
   "outputs": [],
   "source": [
    "ods_onu = [ods.split(' – ') for ods in ods_onu.split(';')]"
   ]
  },
  {
   "cell_type": "code",
   "execution_count": 63,
   "id": "db6cc643-81b8-4470-9370-9c1fb88c1cd3",
   "metadata": {},
   "outputs": [],
   "source": [
    "ods_onu = pd.DataFrame(data=ods_onu, columns=['numero', 'titulo'])"
   ]
  },
  {
   "cell_type": "code",
   "execution_count": 64,
   "id": "660686b9-f999-46e0-a2f6-9a5297b41946",
   "metadata": {},
   "outputs": [],
   "source": [
    "ods_onu['numero'] = ods_onu['numero'].str.strip('\\n').str.replace('ODS', '').str.strip().astype(int)"
   ]
  },
  {
   "cell_type": "code",
   "execution_count": 65,
   "id": "9f511574-6577-4fab-902c-46813efb0fc5",
   "metadata": {},
   "outputs": [],
   "source": [
    "ods_onu['descricao'] = ods_onu['titulo'].apply(lambda x: x.split(':')[1])\n",
    "ods_onu['titulo'] = ods_onu['titulo'].apply(lambda x: x.split(':')[0])"
   ]
  },
  {
   "cell_type": "code",
   "execution_count": 66,
   "id": "d834b234-a71f-4e9b-a79f-18f375508498",
   "metadata": {},
   "outputs": [],
   "source": [
    "ods_onu['id'] = ods_onu.index+1"
   ]
  },
  {
   "cell_type": "code",
   "execution_count": 67,
   "id": "259e0e28-a907-49b7-b980-683cf785a91e",
   "metadata": {},
   "outputs": [
    {
     "data": {
      "text/plain": [
       "True"
      ]
     },
     "execution_count": 67,
     "metadata": {},
     "output_type": "execute_result"
    }
   ],
   "source": [
    "(ods_onu['id']==ods_onu['numero']).all()"
   ]
  },
  {
   "cell_type": "code",
   "execution_count": 68,
   "id": "3e038af8-e698-45ac-a5a2-c8390029a443",
   "metadata": {},
   "outputs": [],
   "source": [
    "save_df(ods_onu, 'ods.csv')"
   ]
  },
  {
   "cell_type": "code",
   "execution_count": 69,
   "id": "c7191ec2-d3dc-4256-a9ad-b73f45b4cf0a",
   "metadata": {},
   "outputs": [],
   "source": [
    "link_ods = 'https://www.prefeitura.sp.gov.br/cidade/secretarias/upload/governo/arquivos/Agenda%202030/vinculacao/vinculacao-pdm-agenda2030.xlsx'\n",
    "ods_meta = download_xl(link_ods, 'relacao_metas_ods.xlsx', ORIGINAL_DATA_DIR, \n",
    "                  sheet_name='Vinculação PDM_ODS', skiprows=1)"
   ]
  },
  {
   "cell_type": "code",
   "execution_count": 70,
   "id": "2d6fbcda-f3d4-422f-950a-9e95a0c157a8",
   "metadata": {},
   "outputs": [
    {
     "data": {
      "text/html": [
       "<div>\n",
       "<style scoped>\n",
       "    .dataframe tbody tr th:only-of-type {\n",
       "        vertical-align: middle;\n",
       "    }\n",
       "\n",
       "    .dataframe tbody tr th {\n",
       "        vertical-align: top;\n",
       "    }\n",
       "\n",
       "    .dataframe thead th {\n",
       "        text-align: right;\n",
       "    }\n",
       "</style>\n",
       "<table border=\"1\" class=\"dataframe\">\n",
       "  <thead>\n",
       "    <tr style=\"text-align: right;\">\n",
       "      <th></th>\n",
       "      <th>Nº Meta PdM</th>\n",
       "      <th>Redação da Meta do Programa de Metas</th>\n",
       "      <th>ODS</th>\n",
       "      <th>Nº Meta ODS</th>\n",
       "      <th>Redação da Meta da Agenda Municipal 2030</th>\n",
       "    </tr>\n",
       "  </thead>\n",
       "  <tbody>\n",
       "    <tr>\n",
       "      <th>0</th>\n",
       "      <td>1.0</td>\n",
       "      <td>Atender 1.700.000 pessoas em programas de tran...</td>\n",
       "      <td>1</td>\n",
       "      <td>Meta 1.3</td>\n",
       "      <td>Assegurar, em nível municipal, até 2030, o ace...</td>\n",
       "    </tr>\n",
       "    <tr>\n",
       "      <th>1</th>\n",
       "      <td>NaN</td>\n",
       "      <td>NaN</td>\n",
       "      <td>2</td>\n",
       "      <td>Meta 2.1</td>\n",
       "      <td>Até 2030, reduzir a subnutrição crônica e agud...</td>\n",
       "    </tr>\n",
       "    <tr>\n",
       "      <th>2</th>\n",
       "      <td>2.0</td>\n",
       "      <td>Implantar o Prontuário Eletrônico em 100% das ...</td>\n",
       "      <td>3</td>\n",
       "      <td>Meta 3.8</td>\n",
       "      <td>Atingir a cobertura universal de saúde, o aces...</td>\n",
       "    </tr>\n",
       "    <tr>\n",
       "      <th>3</th>\n",
       "      <td>3.0</td>\n",
       "      <td>Implantar 30 novos equipamentos de saúde no mu...</td>\n",
       "      <td>3</td>\n",
       "      <td>Meta 3.8</td>\n",
       "      <td>Atingir a cobertura universal de saúde, o aces...</td>\n",
       "    </tr>\n",
       "    <tr>\n",
       "      <th>4</th>\n",
       "      <td>4.0</td>\n",
       "      <td>Reformar e/ou reequipar 187 equipamentos de sa...</td>\n",
       "      <td>3</td>\n",
       "      <td>Meta 3.8</td>\n",
       "      <td>Atingir a cobertura universal de saúde, o aces...</td>\n",
       "    </tr>\n",
       "  </tbody>\n",
       "</table>\n",
       "</div>"
      ],
      "text/plain": [
       "   Nº Meta PdM               Redação da Meta do Programa de Metas  ODS  \\\n",
       "0          1.0  Atender 1.700.000 pessoas em programas de tran...    1   \n",
       "1          NaN                                                NaN    2   \n",
       "2          2.0  Implantar o Prontuário Eletrônico em 100% das ...    3   \n",
       "3          3.0  Implantar 30 novos equipamentos de saúde no mu...    3   \n",
       "4          4.0  Reformar e/ou reequipar 187 equipamentos de sa...    3   \n",
       "\n",
       "  Nº Meta ODS           Redação da Meta da Agenda Municipal 2030  \n",
       "0    Meta 1.3  Assegurar, em nível municipal, até 2030, o ace...  \n",
       "1    Meta 2.1  Até 2030, reduzir a subnutrição crônica e agud...  \n",
       "2    Meta 3.8  Atingir a cobertura universal de saúde, o aces...  \n",
       "3    Meta 3.8  Atingir a cobertura universal de saúde, o aces...  \n",
       "4    Meta 3.8  Atingir a cobertura universal de saúde, o aces...  "
      ]
     },
     "execution_count": 70,
     "metadata": {},
     "output_type": "execute_result"
    }
   ],
   "source": [
    "#numero da meta esta com celula agregada\n",
    "#se for nulo, tem que pegar valor anterior\n",
    "ods_meta.head(5)"
   ]
  },
  {
   "cell_type": "code",
   "execution_count": 71,
   "id": "43e57f2b-5e62-4b0d-995b-71c9192708bd",
   "metadata": {},
   "outputs": [],
   "source": [
    "#Nao vou fazer o mesmo para a redacao da meta\n",
    "#porque nao vou usar essa coluna\n",
    "col_num_meta = 'Nº Meta PdM'\n",
    "for i, row in ods_meta.iterrows():\n",
    "    \n",
    "    if pd.isnull(row[col_num_meta]):\n",
    "        num_meta = ods_meta.loc[i-1, col_num_meta]\n",
    "        ods_meta.loc[i, col_num_meta] = num_meta"
   ]
  },
  {
   "cell_type": "code",
   "execution_count": 72,
   "id": "c9c53844-dbae-43f1-a6cc-0c200d706d18",
   "metadata": {},
   "outputs": [
    {
     "data": {
      "text/html": [
       "<div>\n",
       "<style scoped>\n",
       "    .dataframe tbody tr th:only-of-type {\n",
       "        vertical-align: middle;\n",
       "    }\n",
       "\n",
       "    .dataframe tbody tr th {\n",
       "        vertical-align: top;\n",
       "    }\n",
       "\n",
       "    .dataframe thead th {\n",
       "        text-align: right;\n",
       "    }\n",
       "</style>\n",
       "<table border=\"1\" class=\"dataframe\">\n",
       "  <thead>\n",
       "    <tr style=\"text-align: right;\">\n",
       "      <th></th>\n",
       "      <th>Nº Meta PdM</th>\n",
       "      <th>Redação da Meta do Programa de Metas</th>\n",
       "      <th>ODS</th>\n",
       "      <th>Nº Meta ODS</th>\n",
       "      <th>Redação da Meta da Agenda Municipal 2030</th>\n",
       "    </tr>\n",
       "  </thead>\n",
       "  <tbody>\n",
       "    <tr>\n",
       "      <th>0</th>\n",
       "      <td>1.0</td>\n",
       "      <td>Atender 1.700.000 pessoas em programas de tran...</td>\n",
       "      <td>1</td>\n",
       "      <td>Meta 1.3</td>\n",
       "      <td>Assegurar, em nível municipal, até 2030, o ace...</td>\n",
       "    </tr>\n",
       "    <tr>\n",
       "      <th>1</th>\n",
       "      <td>1.0</td>\n",
       "      <td>NaN</td>\n",
       "      <td>2</td>\n",
       "      <td>Meta 2.1</td>\n",
       "      <td>Até 2030, reduzir a subnutrição crônica e agud...</td>\n",
       "    </tr>\n",
       "    <tr>\n",
       "      <th>2</th>\n",
       "      <td>2.0</td>\n",
       "      <td>Implantar o Prontuário Eletrônico em 100% das ...</td>\n",
       "      <td>3</td>\n",
       "      <td>Meta 3.8</td>\n",
       "      <td>Atingir a cobertura universal de saúde, o aces...</td>\n",
       "    </tr>\n",
       "    <tr>\n",
       "      <th>3</th>\n",
       "      <td>3.0</td>\n",
       "      <td>Implantar 30 novos equipamentos de saúde no mu...</td>\n",
       "      <td>3</td>\n",
       "      <td>Meta 3.8</td>\n",
       "      <td>Atingir a cobertura universal de saúde, o aces...</td>\n",
       "    </tr>\n",
       "    <tr>\n",
       "      <th>4</th>\n",
       "      <td>4.0</td>\n",
       "      <td>Reformar e/ou reequipar 187 equipamentos de sa...</td>\n",
       "      <td>3</td>\n",
       "      <td>Meta 3.8</td>\n",
       "      <td>Atingir a cobertura universal de saúde, o aces...</td>\n",
       "    </tr>\n",
       "  </tbody>\n",
       "</table>\n",
       "</div>"
      ],
      "text/plain": [
       "   Nº Meta PdM               Redação da Meta do Programa de Metas  ODS  \\\n",
       "0          1.0  Atender 1.700.000 pessoas em programas de tran...    1   \n",
       "1          1.0                                                NaN    2   \n",
       "2          2.0  Implantar o Prontuário Eletrônico em 100% das ...    3   \n",
       "3          3.0  Implantar 30 novos equipamentos de saúde no mu...    3   \n",
       "4          4.0  Reformar e/ou reequipar 187 equipamentos de sa...    3   \n",
       "\n",
       "  Nº Meta ODS           Redação da Meta da Agenda Municipal 2030  \n",
       "0    Meta 1.3  Assegurar, em nível municipal, até 2030, o ace...  \n",
       "1    Meta 2.1  Até 2030, reduzir a subnutrição crônica e agud...  \n",
       "2    Meta 3.8  Atingir a cobertura universal de saúde, o aces...  \n",
       "3    Meta 3.8  Atingir a cobertura universal de saúde, o aces...  \n",
       "4    Meta 3.8  Atingir a cobertura universal de saúde, o aces...  "
      ]
     },
     "execution_count": 72,
     "metadata": {},
     "output_type": "execute_result"
    }
   ],
   "source": [
    "ods_meta.head()"
   ]
  },
  {
   "cell_type": "code",
   "execution_count": 73,
   "id": "1bb7beb9-e111-4b52-97ca-c4a2dca633d0",
   "metadata": {},
   "outputs": [],
   "source": [
    "tags = ods_meta[['Nº Meta PdM','Nº Meta ODS','Redação da Meta da Agenda Municipal 2030', 'ODS']].copy()"
   ]
  },
  {
   "cell_type": "code",
   "execution_count": 74,
   "id": "4dfb93eb-34e5-4f37-ae77-8344eb25c31b",
   "metadata": {},
   "outputs": [],
   "source": [
    "tags['descricao'] = tags['Nº Meta ODS'] + ' : ' + tags['Redação da Meta da Agenda Municipal 2030']"
   ]
  },
  {
   "cell_type": "code",
   "execution_count": 75,
   "id": "e1b7a01c-d64e-4bfb-857b-f36fa0b81b3d",
   "metadata": {},
   "outputs": [],
   "source": [
    "tags.rename({'ODS' : 'ods_id'}, axis=1, inplace=True)"
   ]
  },
  {
   "cell_type": "code",
   "execution_count": 76,
   "id": "8372ce5f-48f2-4d75-854b-fdd6ba2e801e",
   "metadata": {},
   "outputs": [],
   "source": [
    "tags['pdm_id'] = 1"
   ]
  },
  {
   "cell_type": "code",
   "execution_count": 77,
   "id": "a8acbd71-73c0-4c84-bf23-84ef7d957f6e",
   "metadata": {},
   "outputs": [],
   "source": [
    "tags['icone']='NULL'"
   ]
  },
  {
   "cell_type": "code",
   "execution_count": 78,
   "id": "d94ff6a7-398b-4307-89ed-88bdb5e6b2ae",
   "metadata": {},
   "outputs": [
    {
     "data": {
      "text/html": [
       "<div>\n",
       "<style scoped>\n",
       "    .dataframe tbody tr th:only-of-type {\n",
       "        vertical-align: middle;\n",
       "    }\n",
       "\n",
       "    .dataframe tbody tr th {\n",
       "        vertical-align: top;\n",
       "    }\n",
       "\n",
       "    .dataframe thead th {\n",
       "        text-align: right;\n",
       "    }\n",
       "</style>\n",
       "<table border=\"1\" class=\"dataframe\">\n",
       "  <thead>\n",
       "    <tr style=\"text-align: right;\">\n",
       "      <th></th>\n",
       "      <th>Nº Meta PdM</th>\n",
       "      <th>Nº Meta ODS</th>\n",
       "      <th>Redação da Meta da Agenda Municipal 2030</th>\n",
       "      <th>ods_id</th>\n",
       "      <th>descricao</th>\n",
       "      <th>pdm_id</th>\n",
       "      <th>icone</th>\n",
       "    </tr>\n",
       "  </thead>\n",
       "  <tbody>\n",
       "    <tr>\n",
       "      <th>0</th>\n",
       "      <td>1.0</td>\n",
       "      <td>Meta 1.3</td>\n",
       "      <td>Assegurar, em nível municipal, até 2030, o ace...</td>\n",
       "      <td>1</td>\n",
       "      <td>Meta 1.3 : Assegurar, em nível municipal, até ...</td>\n",
       "      <td>1</td>\n",
       "      <td>NULL</td>\n",
       "    </tr>\n",
       "    <tr>\n",
       "      <th>1</th>\n",
       "      <td>1.0</td>\n",
       "      <td>Meta 2.1</td>\n",
       "      <td>Até 2030, reduzir a subnutrição crônica e agud...</td>\n",
       "      <td>2</td>\n",
       "      <td>Meta 2.1 : Até 2030, reduzir a subnutrição crô...</td>\n",
       "      <td>1</td>\n",
       "      <td>NULL</td>\n",
       "    </tr>\n",
       "    <tr>\n",
       "      <th>2</th>\n",
       "      <td>2.0</td>\n",
       "      <td>Meta 3.8</td>\n",
       "      <td>Atingir a cobertura universal de saúde, o aces...</td>\n",
       "      <td>3</td>\n",
       "      <td>Meta 3.8 : Atingir a cobertura universal de sa...</td>\n",
       "      <td>1</td>\n",
       "      <td>NULL</td>\n",
       "    </tr>\n",
       "    <tr>\n",
       "      <th>3</th>\n",
       "      <td>3.0</td>\n",
       "      <td>Meta 3.8</td>\n",
       "      <td>Atingir a cobertura universal de saúde, o aces...</td>\n",
       "      <td>3</td>\n",
       "      <td>Meta 3.8 : Atingir a cobertura universal de sa...</td>\n",
       "      <td>1</td>\n",
       "      <td>NULL</td>\n",
       "    </tr>\n",
       "    <tr>\n",
       "      <th>4</th>\n",
       "      <td>4.0</td>\n",
       "      <td>Meta 3.8</td>\n",
       "      <td>Atingir a cobertura universal de saúde, o aces...</td>\n",
       "      <td>3</td>\n",
       "      <td>Meta 3.8 : Atingir a cobertura universal de sa...</td>\n",
       "      <td>1</td>\n",
       "      <td>NULL</td>\n",
       "    </tr>\n",
       "  </tbody>\n",
       "</table>\n",
       "</div>"
      ],
      "text/plain": [
       "   Nº Meta PdM Nº Meta ODS           Redação da Meta da Agenda Municipal 2030  \\\n",
       "0          1.0    Meta 1.3  Assegurar, em nível municipal, até 2030, o ace...   \n",
       "1          1.0    Meta 2.1  Até 2030, reduzir a subnutrição crônica e agud...   \n",
       "2          2.0    Meta 3.8  Atingir a cobertura universal de saúde, o aces...   \n",
       "3          3.0    Meta 3.8  Atingir a cobertura universal de saúde, o aces...   \n",
       "4          4.0    Meta 3.8  Atingir a cobertura universal de saúde, o aces...   \n",
       "\n",
       "   ods_id                                          descricao  pdm_id icone  \n",
       "0       1  Meta 1.3 : Assegurar, em nível municipal, até ...       1  NULL  \n",
       "1       2  Meta 2.1 : Até 2030, reduzir a subnutrição crô...       1  NULL  \n",
       "2       3  Meta 3.8 : Atingir a cobertura universal de sa...       1  NULL  \n",
       "3       3  Meta 3.8 : Atingir a cobertura universal de sa...       1  NULL  \n",
       "4       3  Meta 3.8 : Atingir a cobertura universal de sa...       1  NULL  "
      ]
     },
     "execution_count": 78,
     "metadata": {},
     "output_type": "execute_result"
    }
   ],
   "source": [
    "tags.head()"
   ]
  },
  {
   "cell_type": "code",
   "execution_count": 79,
   "id": "7b16af91-3927-4085-a39b-39cd8dbb1984",
   "metadata": {},
   "outputs": [],
   "source": [
    "tags = tags.reset_index(drop=True)\n",
    "tags['id'] = tags.index+1"
   ]
  },
  {
   "cell_type": "code",
   "execution_count": 80,
   "id": "80f90c91-2897-491c-9c16-d3b1ff0c377c",
   "metadata": {},
   "outputs": [],
   "source": [
    "meta_tag = tags[['id', 'Nº Meta PdM']]"
   ]
  },
  {
   "cell_type": "code",
   "execution_count": 81,
   "id": "4c5eacd4-4f4f-4ba6-b759-bb3cb6930f7f",
   "metadata": {},
   "outputs": [],
   "source": [
    "tags = tags[['id', 'pdm_id', 'descricao', 'icone', 'ods_id']]"
   ]
  },
  {
   "cell_type": "code",
   "execution_count": 82,
   "id": "df47bb83-07b7-47fe-976c-9a2531fbe918",
   "metadata": {},
   "outputs": [],
   "source": [
    "tags = tags.drop_duplicates(subset=['descricao', 'ods_id'])"
   ]
  },
  {
   "cell_type": "code",
   "execution_count": 83,
   "id": "0369ce14-abb3-46ed-890a-4188f6580d31",
   "metadata": {},
   "outputs": [
    {
     "data": {
      "text/html": [
       "<div>\n",
       "<style scoped>\n",
       "    .dataframe tbody tr th:only-of-type {\n",
       "        vertical-align: middle;\n",
       "    }\n",
       "\n",
       "    .dataframe tbody tr th {\n",
       "        vertical-align: top;\n",
       "    }\n",
       "\n",
       "    .dataframe thead th {\n",
       "        text-align: right;\n",
       "    }\n",
       "</style>\n",
       "<table border=\"1\" class=\"dataframe\">\n",
       "  <thead>\n",
       "    <tr style=\"text-align: right;\">\n",
       "      <th></th>\n",
       "      <th>id</th>\n",
       "      <th>pdm_id</th>\n",
       "      <th>descricao</th>\n",
       "      <th>icone</th>\n",
       "      <th>ods_id</th>\n",
       "    </tr>\n",
       "  </thead>\n",
       "  <tbody>\n",
       "    <tr>\n",
       "      <th>0</th>\n",
       "      <td>1</td>\n",
       "      <td>1</td>\n",
       "      <td>Meta 1.3 : Assegurar, em nível municipal, até ...</td>\n",
       "      <td>NULL</td>\n",
       "      <td>1</td>\n",
       "    </tr>\n",
       "    <tr>\n",
       "      <th>1</th>\n",
       "      <td>2</td>\n",
       "      <td>1</td>\n",
       "      <td>Meta 2.1 : Até 2030, reduzir a subnutrição crô...</td>\n",
       "      <td>NULL</td>\n",
       "      <td>2</td>\n",
       "    </tr>\n",
       "    <tr>\n",
       "      <th>2</th>\n",
       "      <td>3</td>\n",
       "      <td>1</td>\n",
       "      <td>Meta 3.8 : Atingir a cobertura universal de sa...</td>\n",
       "      <td>NULL</td>\n",
       "      <td>3</td>\n",
       "    </tr>\n",
       "    <tr>\n",
       "      <th>6</th>\n",
       "      <td>7</td>\n",
       "      <td>1</td>\n",
       "      <td>Meta 3.2 : Até 2030, reduzir no município de S...</td>\n",
       "      <td>NULL</td>\n",
       "      <td>3</td>\n",
       "    </tr>\n",
       "    <tr>\n",
       "      <th>10</th>\n",
       "      <td>11</td>\n",
       "      <td>1</td>\n",
       "      <td>Meta 4.2 : Até 2030, garantir que todas as men...</td>\n",
       "      <td>NULL</td>\n",
       "      <td>4</td>\n",
       "    </tr>\n",
       "  </tbody>\n",
       "</table>\n",
       "</div>"
      ],
      "text/plain": [
       "    id  pdm_id                                          descricao icone  \\\n",
       "0    1       1  Meta 1.3 : Assegurar, em nível municipal, até ...  NULL   \n",
       "1    2       1  Meta 2.1 : Até 2030, reduzir a subnutrição crô...  NULL   \n",
       "2    3       1  Meta 3.8 : Atingir a cobertura universal de sa...  NULL   \n",
       "6    7       1  Meta 3.2 : Até 2030, reduzir no município de S...  NULL   \n",
       "10  11       1  Meta 4.2 : Até 2030, garantir que todas as men...  NULL   \n",
       "\n",
       "    ods_id  \n",
       "0        1  \n",
       "1        2  \n",
       "2        3  \n",
       "6        3  \n",
       "10       4  "
      ]
     },
     "execution_count": 83,
     "metadata": {},
     "output_type": "execute_result"
    }
   ],
   "source": [
    "tags.head()"
   ]
  },
  {
   "cell_type": "code",
   "execution_count": 84,
   "id": "749b2d76-37f8-42e1-817e-917ba63d65d9",
   "metadata": {},
   "outputs": [],
   "source": [
    "save_df(tags, 'tag.csv')"
   ]
  },
  {
   "cell_type": "code",
   "execution_count": 85,
   "id": "f8832588-cf6e-4ce6-9e86-0668fb47945d",
   "metadata": {},
   "outputs": [],
   "source": [
    "meta_tag = meta_tag.rename({'id' : 'tag_id',\n",
    "                'Nº Meta PdM' : 'meta_id'}, axis=1)"
   ]
  },
  {
   "cell_type": "code",
   "execution_count": 86,
   "id": "ca122d80-642b-47d3-be6e-4194801e7b61",
   "metadata": {},
   "outputs": [],
   "source": [
    "meta_tag['meta_id'] = meta_tag['meta_id'].astype(int)"
   ]
  },
  {
   "cell_type": "code",
   "execution_count": 87,
   "id": "438d9ca9-4667-46ea-adfd-7b3f827067b6",
   "metadata": {},
   "outputs": [],
   "source": [
    "meta_tag = meta_tag.reset_index(drop=True)\n",
    "meta_tag['id'] = meta_tag.index+1"
   ]
  },
  {
   "cell_type": "code",
   "execution_count": 88,
   "id": "9e486be2-98ad-4022-af82-0570814332a7",
   "metadata": {},
   "outputs": [
    {
     "data": {
      "text/html": [
       "<div>\n",
       "<style scoped>\n",
       "    .dataframe tbody tr th:only-of-type {\n",
       "        vertical-align: middle;\n",
       "    }\n",
       "\n",
       "    .dataframe tbody tr th {\n",
       "        vertical-align: top;\n",
       "    }\n",
       "\n",
       "    .dataframe thead th {\n",
       "        text-align: right;\n",
       "    }\n",
       "</style>\n",
       "<table border=\"1\" class=\"dataframe\">\n",
       "  <thead>\n",
       "    <tr style=\"text-align: right;\">\n",
       "      <th></th>\n",
       "      <th>tag_id</th>\n",
       "      <th>meta_id</th>\n",
       "      <th>id</th>\n",
       "    </tr>\n",
       "  </thead>\n",
       "  <tbody>\n",
       "    <tr>\n",
       "      <th>0</th>\n",
       "      <td>1</td>\n",
       "      <td>1</td>\n",
       "      <td>1</td>\n",
       "    </tr>\n",
       "    <tr>\n",
       "      <th>1</th>\n",
       "      <td>2</td>\n",
       "      <td>1</td>\n",
       "      <td>2</td>\n",
       "    </tr>\n",
       "    <tr>\n",
       "      <th>2</th>\n",
       "      <td>3</td>\n",
       "      <td>2</td>\n",
       "      <td>3</td>\n",
       "    </tr>\n",
       "    <tr>\n",
       "      <th>3</th>\n",
       "      <td>4</td>\n",
       "      <td>3</td>\n",
       "      <td>4</td>\n",
       "    </tr>\n",
       "    <tr>\n",
       "      <th>4</th>\n",
       "      <td>5</td>\n",
       "      <td>4</td>\n",
       "      <td>5</td>\n",
       "    </tr>\n",
       "  </tbody>\n",
       "</table>\n",
       "</div>"
      ],
      "text/plain": [
       "   tag_id  meta_id  id\n",
       "0       1        1   1\n",
       "1       2        1   2\n",
       "2       3        2   3\n",
       "3       4        3   4\n",
       "4       5        4   5"
      ]
     },
     "execution_count": 88,
     "metadata": {},
     "output_type": "execute_result"
    }
   ],
   "source": [
    "meta_tag.head()"
   ]
  },
  {
   "cell_type": "code",
   "execution_count": 89,
   "id": "6a4c47e3-29e0-43cf-9bf0-974bb77a73e8",
   "metadata": {},
   "outputs": [],
   "source": [
    "save_df(meta_tag, 'Meta_tag.csv')"
   ]
  },
  {
   "cell_type": "code",
   "execution_count": null,
   "id": "e7afd744-a57b-4765-a70c-9f55203a0d42",
   "metadata": {},
   "outputs": [],
   "source": []
  }
 ],
 "metadata": {
  "kernelspec": {
   "display_name": "Python 3",
   "language": "python",
   "name": "python3"
  },
  "language_info": {
   "codemirror_mode": {
    "name": "ipython",
    "version": 3
   },
   "file_extension": ".py",
   "mimetype": "text/x-python",
   "name": "python",
   "nbconvert_exporter": "python",
   "pygments_lexer": "ipython3",
   "version": "3.8.8"
  }
 },
 "nbformat": 4,
 "nbformat_minor": 5
}
